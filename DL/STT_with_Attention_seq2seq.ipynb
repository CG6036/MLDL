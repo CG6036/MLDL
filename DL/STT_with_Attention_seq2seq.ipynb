{
  "cells": [
    {
      "cell_type": "code",
      "source": [
        "from google.colab import drive\n",
        "drive.mount('/content/drive/')"
      ],
      "metadata": {
        "id": "aS8SpPX02WX4",
        "colab": {
          "base_uri": "https://localhost:8080/"
        },
        "outputId": "fa16de97-b0a0-44b7-aa01-5909210ad835"
      },
      "execution_count": null,
      "outputs": [
        {
          "output_type": "stream",
          "name": "stdout",
          "text": [
            "Mounted at /content/drive/\n"
          ]
        }
      ]
    },
    {
      "cell_type": "code",
      "source": [
        "%cd '/content/drive/MyDrive/MLDL1/MLDL1_hw4'"
      ],
      "metadata": {
        "colab": {
          "base_uri": "https://localhost:8080/"
        },
        "id": "TbKllPouZWGr",
        "outputId": "7434676f-c058-447c-a7af-caff517d4fbe"
      },
      "execution_count": null,
      "outputs": [
        {
          "output_type": "stream",
          "name": "stdout",
          "text": [
            "/content/drive/MyDrive/MLDL1/MLDL1_hw4\n"
          ]
        }
      ]
    },
    {
      "cell_type": "code",
      "source": [
        "# Extract the audio files. This may take up to several minutes.\n",
        "!tar -xf 'data/audio.tar.xz' -C 'data'"
      ],
      "metadata": {
        "id": "mwEI8ThW2ksQ"
      },
      "execution_count": null,
      "outputs": []
    },
    {
      "cell_type": "code",
      "execution_count": null,
      "metadata": {
        "id": "vDZifBVcY80q",
        "colab": {
          "base_uri": "https://localhost:8080/"
        },
        "outputId": "6e670901-fe48-41e0-ccc9-6602dbdb887f"
      },
      "outputs": [
        {
          "output_type": "stream",
          "name": "stdout",
          "text": [
            "Looking in indexes: https://pypi.org/simple, https://us-python.pkg.dev/colab-wheels/public/simple/\n",
            "Collecting sentencepiece\n",
            "  Downloading sentencepiece-0.1.99-cp310-cp310-manylinux_2_17_x86_64.manylinux2014_x86_64.whl (1.3 MB)\n",
            "\u001b[2K     \u001b[90m━━━━━━━━━━━━━━━━━━━━━━━━━━━━━━━━━━━━━━━━\u001b[0m \u001b[32m1.3/1.3 MB\u001b[0m \u001b[31m54.7 MB/s\u001b[0m eta \u001b[36m0:00:00\u001b[0m\n",
            "\u001b[?25hInstalling collected packages: sentencepiece\n",
            "Successfully installed sentencepiece-0.1.99\n",
            "cuda\n"
          ]
        }
      ],
      "source": [
        "# Import required libraries\n",
        "import torch\n",
        "from torch import nn\n",
        "import torch.nn.functional as F\n",
        "from torch.utils.data import DataLoader, Dataset\n",
        "import glob\n",
        "import librosa\n",
        "import IPython.display as ipd\n",
        "!pip install sentencepiece\n",
        "import sentencepiece\n",
        "import numpy as np\n",
        "import random\n",
        "from tqdm import tqdm\n",
        "import math\n",
        "import pickle\n",
        "\n",
        "SEED = 1234\n",
        "\n",
        "np.random.seed(SEED)\n",
        "torch.manual_seed(SEED)\n",
        "torch.cuda.manual_seed(SEED)\n",
        "random.seed(SEED)\n",
        "torch.backends.cudnn.deterministic = True\n",
        "\n",
        "device = torch.device('cuda') if torch.cuda.is_available() else torch.device('cpu')\n",
        "print(device)"
      ]
    },
    {
      "cell_type": "code",
      "execution_count": null,
      "metadata": {
        "id": "yClCG-0Byee9",
        "colab": {
          "base_uri": "https://localhost:8080/"
        },
        "outputId": "47729a42-1df6-4a1f-fc13-af98c3beedc1"
      },
      "outputs": [
        {
          "output_type": "execute_result",
          "data": {
            "text/plain": [
              "True"
            ]
          },
          "metadata": {},
          "execution_count": 5
        }
      ],
      "source": [
        "sentencepiece.SentencePieceTrainer.Train('--input=data/text.csv --model_prefix=tokenizer --model_type=bpe --vocab_size=1144 --pad_id=0 --unk_id=1 --bos_id=2 --eos_id=3')\n",
        "tokenizer = sentencepiece.SentencePieceProcessor()\n",
        "tokenizer.load('tokenizer.model')"
      ]
    },
    {
      "cell_type": "code",
      "execution_count": null,
      "metadata": {
        "id": "LboLLus3n5qw"
      },
      "outputs": [],
      "source": [
        "BATCH_SIZE = 64\n",
        "VOCAB_SIZE = 1144\n",
        "PAD_TOKEN_ID = 0\n",
        "BOS_TOKEN_ID = 2  # beginning of sentence token\n",
        "EOS_TOKEN_ID = 3  # end of sentence token\n",
        "INPUT_DIM = 1024\n",
        "EMBEDDING_DIM = 128\n",
        "HIDDEN_DIM = 256\n",
        "EPOCHS = 5\n",
        "LR = 0.0005"
      ]
    },
    {
      "cell_type": "code",
      "execution_count": null,
      "metadata": {
        "id": "81E9KPGPyYT8"
      },
      "outputs": [],
      "source": [
        "def train(model, data_loader, optimizer, criterion):\n",
        "    model.train()\n",
        "    epoch_loss = 0\n",
        "    for audio, text in tqdm(data_loader):\n",
        "      audio = audio.to(device)\n",
        "      text = text.to(device)\n",
        "      output = model(audio, text)\n",
        "      output_size = output.shape[-1]\n",
        "      output = output[:,1:].reshape(-1, output_size)\n",
        "      target = text[:,1:-1].reshape(-1).long()\n",
        "      optimizer.zero_grad()\n",
        "      loss = criterion(output, target)\n",
        "      loss.backward()\n",
        "      torch.nn.utils.clip_grad_norm_(model.parameters(), 1)\n",
        "      optimizer.step()\n",
        "      epoch_loss += loss.item()\n",
        "    return epoch_loss / len(data_loader)\n",
        "\n",
        "def evaluate(model, data_loader, criterion):\n",
        "    model.eval()\n",
        "    epoch_loss = 0\n",
        "    with torch.no_grad():\n",
        "      for audio, text in tqdm(data_loader):\n",
        "        audio = audio.to(device)\n",
        "        text = text.to(device)\n",
        "        output = model(audio, text)\n",
        "        output_size = output.shape[-1]\n",
        "        output = output[:,1:].reshape(-1, output_size)\n",
        "        target = text[:,1:-1].reshape(-1).long()\n",
        "        loss = criterion(output, target)\n",
        "        epoch_loss += loss.item()\n",
        "    return epoch_loss / len(data_loader)"
      ]
    },
    {
      "cell_type": "code",
      "execution_count": null,
      "metadata": {
        "id": "Hs9tkoPDZ5PI"
      },
      "outputs": [],
      "source": [
        "class KSSDataset(Dataset):\n",
        "    def __init__(self, mode='train'):\n",
        "        self.mode = mode\n",
        "        audio_list = sorted(glob.glob('data/audio/*'))\n",
        "        with open(\"data/text.csv\", \"r\") as f:\n",
        "          text_list = f.read().splitlines()\n",
        "        if mode =='train':\n",
        "          self.audio_list = audio_list[:-2000]\n",
        "          self.text_list = text_list[:-2000]\n",
        "        elif mode == 'val':\n",
        "          self.audio_list = audio_list[-2000:-1000]\n",
        "          self.text_list = text_list[-2000:-1000]\n",
        "        else:\n",
        "          self.audio_list = audio_list[-1000:]\n",
        "          self.text_list = text_list[-1000:]\n",
        "\n",
        "    def __len__(self):\n",
        "        return len(self.audio_list)\n",
        "\n",
        "    def __getitem__(self, idx):\n",
        "        y, sr = librosa.load(self.audio_list[idx])\n",
        "        audio_feature = librosa.feature.mfcc(y=y, sr=sr, hop_length=160, n_mfcc=33, n_fft=400, window='hamming').swapaxes(0, 1)\n",
        "        text_encoded = tokenizer.encode(self.text_list[idx], out_type=int)\n",
        "        return audio_feature, text_encoded"
      ]
    },
    {
      "cell_type": "code",
      "execution_count": null,
      "metadata": {
        "id": "lv4FcuN7rdO_"
      },
      "outputs": [],
      "source": [
        "def collate_fn(list_items):\n",
        "    # 1. Pad sequence so that the length is same with the longest sequence in a batch.\n",
        "    # For audio, pad with zeros and for text, pad with PAD_TOKEN_ID.\n",
        "    # 2. Append BOS_TOKEN_ID and EOS_TOKEN_ID to each the beginning and end of the text sequence.\n",
        "    # audio_batch shape: [batch_size, audio_sequence_length, input_size]\n",
        "    # text_batch shape: [batch_size, text_sequence_length(including bos, eos tokens)]\n",
        "    audio_padded = []\n",
        "    text_padded = []\n",
        "    ################### YOUR CODE ###################\n",
        "    max_len_audio, max_len_text = 0, 0\n",
        "    max_len_audio = max(x[0].shape[0] for x in list_items)\n",
        "    max_len_text = max(len(x[1]) for x in list_items) + 2\n",
        "\n",
        "    audio_batch= []\n",
        "    text_batch= []\n",
        "\n",
        "    for (audio_feature, text_encoded) in list_items:\n",
        "      audio_padded = torch.tensor(audio_feature)\n",
        "      audio_padded = torch.cat([audio_padded, torch.zeros((max_len_audio - audio_padded.shape[0], audio_padded.shape[1]))])\n",
        "      text= torch.tensor([BOS_TOKEN_ID] + text_encoded + [EOS_TOKEN_ID])\n",
        "      text_padded = torch.cat([text, torch.full((max_len_text - len(text),), PAD_TOKEN_ID)])\n",
        "\n",
        "      text_batch.append(text_padded)\n",
        "      audio_batch.append(audio_padded)\n",
        "\n",
        "    audio_batch= torch.stack(audio_batch) # must be [batch_size, audio_sequence_length, input_size] # batch = 64, input size == 33\n",
        "    text_batch= torch.stack(text_batch) # must be [batch_size, text_sequence_length] # batch = 64\n",
        "    ##################################################\n",
        "    return audio_batch, text_batch"
      ]
    },
    {
      "cell_type": "code",
      "source": [
        "train_dataset = KSSDataset(mode='train')\n",
        "train_loader = DataLoader(train_dataset, batch_size=BATCH_SIZE, collate_fn=collate_fn)\n",
        "val_dataset = KSSDataset(mode='val')\n",
        "val_loader = DataLoader(val_dataset, batch_size=BATCH_SIZE, collate_fn=collate_fn)\n",
        "test_dataset = KSSDataset(mode='test')\n",
        "test_loader = DataLoader(test_dataset, batch_size=BATCH_SIZE, collate_fn=collate_fn)"
      ],
      "metadata": {
        "id": "ZlM8SkTAYHVh"
      },
      "execution_count": null,
      "outputs": []
    },
    {
      "cell_type": "code",
      "execution_count": null,
      "metadata": {
        "id": "H7PnF7HjDQ1v"
      },
      "outputs": [],
      "source": [
        "# Implement each of the RNN cells that form the building blocks of the encoder and decoder.\n",
        "# You may refer to the Pytorch documentation and implementation.\n",
        "# https://pytorch.org/docs/stable/generated/torch.nn.RNNCell.html\n",
        "# https://pytorch.org/docs/stable/generated/torch.nn.GRUCell.html\n",
        "# https://pytorch.org/docs/stable/generated/torch.nn.LSTMCell.html\n",
        "\n",
        "class RNNCell(nn.Module):\n",
        "    def __init__(self, input_size, hidden_size):\n",
        "        super(RNNCell, self).__init__()\n",
        "        self.hidden_size = hidden_size\n",
        "        ################### YOUR CODE ###################\n",
        "        self.Wx = nn.Linear(input_size, hidden_size)\n",
        "        self.Wh = nn.Linear(hidden_size, hidden_size)\n",
        "        ##################################################\n",
        "\n",
        "    def forward(self, x, h=None):\n",
        "        if h is None:\n",
        "          h = torch.zeros(x.shape[0], self.hidden_size).to(device)\n",
        "        # x shape: [batch_size, embedding_size]\n",
        "        # h shape: [batch_size, hidden_size]\n",
        "        ################### YOUR CODE ###################\n",
        "        h = F.tanh(self.Wx(x) + self.Wh(h))\n",
        "        ##################################################\n",
        "        return h\n",
        "\n",
        "\n",
        "class GRUCell(nn.Module):\n",
        "    def __init__(self, input_size, hidden_size):\n",
        "        super(GRUCell, self).__init__()\n",
        "        self.hidden_size = hidden_size\n",
        "        ################### YOUR CODE ###################\n",
        "        self.Wxr = nn.Linear(input_size, hidden_size,)\n",
        "        self.Whr = nn.Linear(hidden_size, hidden_size)\n",
        "        self.Wxz = nn.Linear(input_size, hidden_size)\n",
        "        self.Whz = nn.Linear(hidden_size, hidden_size)\n",
        "        self.Wx = nn.Linear(input_size, hidden_size)\n",
        "        self.Wh = nn.Linear(hidden_size, hidden_size)\n",
        "        ##################################################\n",
        "\n",
        "    def forward(self, x, h=None):\n",
        "        if h is None:\n",
        "          h = torch.zeros(x.shape[0], self.hidden_size).to(device)\n",
        "        # x shape: [batch_size, embedding_size]\n",
        "        # h shape: [batch_size, hidden_size]\n",
        "        ################### YOUR CODE ###################\n",
        "        r = F.sigmoid(self.Wxr(x) + self.Whr(h)) # (hidden_size) + (hidden_size)\n",
        "        z = F.sigmoid(self.Wxz(x) + self.Whz(h)) # (hidden_size) + (hidden_size)\n",
        "        h = (1 - z) * h + z * F.tanh(self.Wx(x) + self.Wh(r*h))\n",
        "        ##################################################\n",
        "        return h\n",
        "\n",
        "\n",
        "class LSTMCell(nn.Module):\n",
        "    def __init__(self, input_size, hidden_size):\n",
        "        super(LSTMCell, self).__init__()\n",
        "        self.hidden_size = hidden_size\n",
        "        ################### YOUR CODE ###################\n",
        "        self.Wxi = nn.Linear(input_size, hidden_size)\n",
        "        self.Whi = nn.Linear(hidden_size, hidden_size)\n",
        "        self.Wxf = nn.Linear(input_size, hidden_size)\n",
        "        self.Whf = nn.Linear(hidden_size, hidden_size)\n",
        "        self.Wxc = nn.Linear(input_size, hidden_size)\n",
        "        self.Whc = nn.Linear(hidden_size, hidden_size)\n",
        "        self.Wxo = nn.Linear(input_size, hidden_size)\n",
        "        self.Who = nn.Linear(hidden_size, hidden_size)\n",
        "        ##################################################\n",
        "\n",
        "    def forward(self, x, h=None, c=None):\n",
        "        if h is None:\n",
        "          h = torch.zeros(x.shape[0], self.hidden_size).to(device)\n",
        "        if c is None:\n",
        "          c = torch.zeros(x.shape[0], self.hidden_size).to(device)\n",
        "        # x shape: [batch_size, embedding_size]\n",
        "        # h shape: [batch_size, hidden_size]\n",
        "        # c shape: [batch_size, hidden_size]\n",
        "        ################### YOUR CODE ###################\n",
        "        i = F.sigmoid(self.Wxi(x) + self.Whi(h))\n",
        "        f = F.sigmoid(self.Wxf(x) + self.Whf(h))\n",
        "        c = f * c + i * F.tanh(self.Wxc(x) + self.Whc(h))\n",
        "        o = F.sigmoid(self.Wxo(x) + self.Who(h))\n",
        "        h = o * F.tanh(c)\n",
        "        ##################################################\n",
        "        return h, c"
      ]
    },
    {
      "cell_type": "code",
      "execution_count": null,
      "metadata": {
        "id": "RAZXrij82VL0"
      },
      "outputs": [],
      "source": [
        "# Do not modify this cell.\n",
        "# This class extracts the audio features to input to the Seq2Seq model.\n",
        "class FeatureExtractor(nn.Module):\n",
        "    def __init__(self):\n",
        "        super(FeatureExtractor, self).__init__()\n",
        "        self.conv = nn.Sequential(\n",
        "          nn.Conv2d(1, 32, kernel_size=3, padding=1),\n",
        "          nn.ReLU(),\n",
        "          nn.BatchNorm2d(32),\n",
        "          nn.MaxPool2d(2, 2),\n",
        "          nn.Conv2d(32, 64, kernel_size=3, padding=1),\n",
        "          nn.ReLU(),\n",
        "          nn.BatchNorm2d(64),\n",
        "          nn.Conv2d(64, 128, kernel_size=3, padding=1),\n",
        "          nn.ReLU(),\n",
        "          nn.BatchNorm2d(128),\n",
        "          nn.MaxPool2d(2, 2)\n",
        "      )\n",
        "\n",
        "    def forward(self, inputs):\n",
        "        x = self.conv(inputs.unsqueeze(1))\n",
        "        x = x.transpose(1, 2)\n",
        "        x = x.reshape(x.shape[0], x.shape[1], -1)\n",
        "        return x"
      ]
    },
    {
      "cell_type": "code",
      "execution_count": null,
      "metadata": {
        "id": "gB5_5zG3v_0o"
      },
      "outputs": [],
      "source": [
        "# Implement the LSTMEncoder and AttentionLSTMDecoder as shown in Figure 1.\n",
        "# LSTMEncoder returns hidden states h1, h2.. and the final cell state.\n",
        "# AttentionLSTMDecoder attends to the encoder's outputs using dot product attention.\n",
        "# It takes in the final hidden state of the encoder s0, calculates the attention score and attention coefficients to get a0.\n",
        "# s0 and a0 are concatenated and goes through fc and tanh layer to form s0_.\n",
        "# The hidden states from the decoder goes through fc1 for final predictions.\n",
        "# The inputs to the decoder should go through the embedding layer to be able to input to the LSTM.\n",
        "\n",
        "class LSTMEncoder(nn.Module):\n",
        "    def __init__(self, input_size, embedding_size, hidden_size):\n",
        "        super(LSTMEncoder, self).__init__()\n",
        "        self.embedding_size = embedding_size\n",
        "        self.LSTMCell = LSTMCell(input_size, hidden_size)\n",
        "\n",
        "    def forward(self, inputs):\n",
        "        # inputs shape: [batch_size, sequence length, input_size]\n",
        "        # hidden_states shape: [batch_size, sequence_length, hidden_size]\n",
        "        # cell_state shape: [batch_size, hidden_size]\n",
        "        hidden_states = []\n",
        "        ################### YOUR CODE ###################\n",
        "        sequence_length = inputs.shape[1]\n",
        "        batch_size = inputs.shape[0]\n",
        "        cell_state = None\n",
        "        hidden_state = None\n",
        "\n",
        "        for t in range(sequence_length):\n",
        "            x = inputs[:, t, :]\n",
        "            hidden_state, cell_state = self.LSTMCell(x, hidden_state, cell_state)\n",
        "            hidden_states.append(hidden_state)\n",
        "        hidden_states = torch.stack(hidden_states, dim=1)\n",
        "        ##################################################\n",
        "        return hidden_states, cell_state\n",
        "\n",
        "\n",
        "class AttentionLSTMDecoder(nn.Module):\n",
        "    def __init__(self, embedding_size, hidden_size, output_size):\n",
        "        super(AttentionLSTMDecoder, self).__init__()\n",
        "        self.embedding = nn.Embedding(output_size, embedding_size)\n",
        "        self.LSTMCell = LSTMCell(embedding_size, hidden_size)\n",
        "        self.fc0 = nn.Linear(hidden_size * 2, hidden_size)\n",
        "        self.fc1 = nn.Linear(hidden_size, output_size)\n",
        "\n",
        "    def forward(self, inputs, hidden_states, cell_state):\n",
        "        # You should use teacher forcing. (Instead of the model's prediction, take the next step ground truth as input.)\n",
        "        # Originally, teacher forcing is used in training and turned off in validation and testing. For this assignment, we will keep it simple and use teacher forcing for train/validation/test.\n",
        "        # inputs shape: [batch_size, target sequence length(including bos, eos tokens)]\n",
        "        # predictions shape: [batch_size, target seq len-1, target_vocab_size]\n",
        "        ################### YOUR CODE ###################\n",
        "        inputs = self.embedding(inputs)\n",
        "        sequence_length = inputs.shape[1]\n",
        "        s = hidden_states[:,-1,:]\n",
        "\n",
        "        predictions = []\n",
        "        for t in range(0, sequence_length - 1):\n",
        "          score_attn = torch.unsqueeze(s, dim = 1) @ hidden_states.transpose(-2,-1)\n",
        "          score_attn = score_attn.softmax(dim = -1)\n",
        "          token_context = score_attn @ hidden_states\n",
        "          token_context = torch.squeeze(token_context, dim = 1)\n",
        "          s = F.tanh(self.fc0(torch.cat([s, token_context], dim = 1)))\n",
        "          x = inputs[:,t,:]\n",
        "          s, cell_state = self.LSTMCell(x, s, cell_state)\n",
        "          output = self.fc1(s)\n",
        "          predictions.append(output)\n",
        "\n",
        "        predictions = torch.stack(predictions, dim=1)\n",
        "        ##################################################\n",
        "        return predictions\n",
        "\n",
        "\n",
        "class Seq2Seq(nn.Module):\n",
        "    def __init__(self, feature_extractor, encoder, decoder):\n",
        "        super(Seq2Seq, self).__init__()\n",
        "        self.feature_extractor = feature_extractor\n",
        "        self.encoder = encoder\n",
        "        self.decoder = decoder\n",
        "\n",
        "    def forward(self, source, target):\n",
        "        source_feats = self.feature_extractor(source)\n",
        "        enc_out = self.encoder(source_feats)\n",
        "        dec_out = self.decoder(target, *enc_out)\n",
        "        return dec_out  # shape: [batch_size, target seq len-1, target_vocab_size]"
      ]
    },
    {
      "cell_type": "code",
      "execution_count": null,
      "metadata": {
        "id": "cZchHXnyW34W"
      },
      "outputs": [],
      "source": [
        "feature_extractor = FeatureExtractor()\n",
        "encoder = LSTMEncoder(INPUT_DIM, EMBEDDING_DIM, HIDDEN_DIM)\n",
        "decoder = AttentionLSTMDecoder(EMBEDDING_DIM, HIDDEN_DIM, VOCAB_SIZE)\n",
        "\n",
        "model = Seq2Seq(feature_extractor, encoder, decoder)\n",
        "model.to(device)\n",
        "\n",
        "optimizer = torch.optim.AdamW(model.parameters(), lr=LR)\n",
        "criterion = nn.CrossEntropyLoss(ignore_index=PAD_TOKEN_ID)"
      ]
    },
    {
      "cell_type": "code",
      "execution_count": null,
      "metadata": {
        "id": "JwuaIVrawK6z",
        "colab": {
          "base_uri": "https://localhost:8080/"
        },
        "outputId": "11ed9eaf-0851-4201-c43d-c26574a905e5"
      },
      "outputs": [
        {
          "output_type": "stream",
          "name": "stderr",
          "text": [
            "\r  0%|          | 0/170 [00:00<?, ?it/s]/usr/local/lib/python3.10/dist-packages/librosa/feature/spectral.py:2157: UserWarning: Empty filters detected in mel frequency basis. Some channels will produce empty responses. Try increasing your sampling rate (and fmax) or reducing n_mels.\n",
            "  mel_basis = filters.mel(sr=sr, n_fft=n_fft, **kwargs)\n",
            "100%|██████████| 170/170 [05:32<00:00,  1.95s/it]\n",
            "100%|██████████| 16/16 [00:19<00:00,  1.19s/it]\n"
          ]
        },
        {
          "output_type": "stream",
          "name": "stdout",
          "text": [
            "Epoch: 0 | \tTrain Loss: 2.761 | Train PPL:  15.814\n",
            "Epoch: 0 | \t Val. Loss: 1.121 |  Val. PPL:   3.069\n"
          ]
        },
        {
          "output_type": "stream",
          "name": "stderr",
          "text": [
            "100%|██████████| 170/170 [05:22<00:00,  1.90s/it]\n",
            "100%|██████████| 16/16 [00:20<00:00,  1.28s/it]\n"
          ]
        },
        {
          "output_type": "stream",
          "name": "stdout",
          "text": [
            "Epoch: 1 | \tTrain Loss: 0.641 | Train PPL:   1.899\n",
            "Epoch: 1 | \t Val. Loss: 0.352 |  Val. PPL:   1.422\n"
          ]
        },
        {
          "output_type": "stream",
          "name": "stderr",
          "text": [
            "100%|██████████| 170/170 [05:24<00:00,  1.91s/it]\n",
            "100%|██████████| 16/16 [00:18<00:00,  1.16s/it]\n"
          ]
        },
        {
          "output_type": "stream",
          "name": "stdout",
          "text": [
            "Epoch: 2 | \tTrain Loss: 0.234 | Train PPL:   1.264\n",
            "Epoch: 2 | \t Val. Loss: 0.163 |  Val. PPL:   1.177\n"
          ]
        },
        {
          "output_type": "stream",
          "name": "stderr",
          "text": [
            "100%|██████████| 170/170 [05:26<00:00,  1.92s/it]\n",
            "100%|██████████| 16/16 [00:19<00:00,  1.22s/it]\n"
          ]
        },
        {
          "output_type": "stream",
          "name": "stdout",
          "text": [
            "Epoch: 3 | \tTrain Loss: 0.116 | Train PPL:   1.122\n",
            "Epoch: 3 | \t Val. Loss: 0.092 |  Val. PPL:   1.096\n"
          ]
        },
        {
          "output_type": "stream",
          "name": "stderr",
          "text": [
            "100%|██████████| 170/170 [05:33<00:00,  1.96s/it]\n",
            "100%|██████████| 16/16 [00:19<00:00,  1.23s/it]"
          ]
        },
        {
          "output_type": "stream",
          "name": "stdout",
          "text": [
            "Epoch: 4 | \tTrain Loss: 0.066 | Train PPL:   1.069\n",
            "Epoch: 4 | \t Val. Loss: 0.058 |  Val. PPL:   1.060\n"
          ]
        },
        {
          "output_type": "stream",
          "name": "stderr",
          "text": [
            "\n"
          ]
        }
      ],
      "source": [
        "# Train your model. All cell outputs should be shown below.\n",
        "best_val_loss = float('inf')\n",
        "for epoch in range(EPOCHS):\n",
        "  train_loss = train(model, train_loader, optimizer, criterion)\n",
        "  val_loss = evaluate(model, val_loader, criterion)\n",
        "\n",
        "  if val_loss < best_val_loss:\n",
        "    best_valid_loss = val_loss\n",
        "    torch.save(model.state_dict(), 'model.pt')\n",
        "\n",
        "  print(f'Epoch: {epoch} | \\tTrain Loss: {train_loss:.3f} | Train PPL: {math.exp(train_loss):7.3f}')\n",
        "  print(f'Epoch: {epoch} | \\t Val. Loss: {val_loss:.3f} |  Val. PPL: {math.exp(val_loss):7.3f}')"
      ]
    },
    {
      "cell_type": "code",
      "execution_count": null,
      "metadata": {
        "id": "35ksktBny0Bz",
        "colab": {
          "base_uri": "https://localhost:8080/"
        },
        "outputId": "c4b3315f-e51c-41f4-f75a-b760f84a21f9"
      },
      "outputs": [
        {
          "output_type": "stream",
          "name": "stderr",
          "text": [
            "100%|██████████| 16/16 [00:19<00:00,  1.24s/it]"
          ]
        },
        {
          "output_type": "stream",
          "name": "stdout",
          "text": [
            "Test Loss: 0.056 | Test PPL:   1.058\n"
          ]
        },
        {
          "output_type": "stream",
          "name": "stderr",
          "text": [
            "\n"
          ]
        }
      ],
      "source": [
        "# Test your model. All cell outputs should be shown below.\n",
        "model.load_state_dict(torch.load('model.pt'))\n",
        "test_loss = evaluate(model, test_loader, criterion)\n",
        "print(f'Test Loss: {test_loss:.3f} | Test PPL: {math.exp(test_loss):7.3f}')"
      ]
    },
    {
      "cell_type": "code",
      "execution_count": null,
      "metadata": {
        "id": "nTH4Gb6xdHiu"
      },
      "outputs": [],
      "source": [
        "idx = 0\n",
        "y, sr = librosa.load(test_dataset.audio_list[idx])\n",
        "audio_feature = librosa.feature.mfcc(y=y, sr=sr, hop_length=160, n_mfcc=33, n_fft=400, window='hamming').swapaxes(0, 1)\n",
        "text_encoded = tokenizer.encode(test_dataset.text_list[idx], out_type=int)"
      ]
    },
    {
      "cell_type": "code",
      "execution_count": null,
      "metadata": {
        "id": "igLz9NNRd8zA",
        "colab": {
          "base_uri": "https://localhost:8080/",
          "height": 52
        },
        "outputId": "89d0b334-1f94-4fc2-a2c0-3d53dea42076"
      },
      "outputs": [
        {
          "output_type": "execute_result",
          "data": {
            "text/plain": [
              "<IPython.lib.display.Audio object>"
            ],
            "text/html": [
              "\n",
              "                <audio  controls=\"controls\" >\n",
              "                    <source src=\"data:audio/x-wav;base64,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\" type=\"audio/x-wav\" />\n",
              "                    Your browser does not support the audio element.\n",
              "                </audio>\n",
              "              "
            ]
          },
          "metadata": {},
          "execution_count": 77
        }
      ],
      "source": [
        "ipd.Audio(test_dataset.audio_list[idx], rate=8000, autoplay=False)"
      ]
    },
    {
      "cell_type": "code",
      "execution_count": null,
      "metadata": {
        "id": "tDYbnu5Zakpd",
        "colab": {
          "base_uri": "https://localhost:8080/",
          "height": 37
        },
        "outputId": "33acef80-cbfc-4bf6-b4a3-72ea11bec294"
      },
      "outputs": [
        {
          "output_type": "execute_result",
          "data": {
            "text/plain": [
              "'악수는 서양의 풍습입니다'"
            ],
            "application/vnd.google.colaboratory.intrinsic+json": {
              "type": "string"
            }
          },
          "metadata": {},
          "execution_count": 78
        }
      ],
      "source": [
        "sample_output = model(torch.Tensor(audio_feature).unsqueeze(0).to(device), torch.IntTensor(text_encoded).unsqueeze(0).to(device))[0]\n",
        "sample_output = torch.argmax(sample_output, dim=-1)\n",
        "tokenizer.decode(sample_output.tolist())"
      ]
    }
  ],
  "metadata": {
    "accelerator": "GPU",
    "colab": {
      "gpuType": "T4",
      "provenance": []
    },
    "kernelspec": {
      "display_name": "Python 3",
      "name": "python3"
    },
    "language_info": {
      "codemirror_mode": {
        "name": "ipython",
        "version": 3
      },
      "file_extension": ".py",
      "mimetype": "text/x-python",
      "name": "python",
      "nbconvert_exporter": "python",
      "pygments_lexer": "ipython3",
      "version": "3.9.16"
    }
  },
  "nbformat": 4,
  "nbformat_minor": 0
}