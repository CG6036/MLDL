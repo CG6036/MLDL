{
 "cells": [
  {
   "cell_type": "markdown",
   "id": "2a295a98",
   "metadata": {},
   "source": [
    "## Machine Learning & Deep Learning 1 Assignment 2\n",
    "### 2023-29914 Chan Gyu Lee"
   ]
  },
  {
   "cell_type": "code",
   "execution_count": 1,
   "id": "e028b96c",
   "metadata": {},
   "outputs": [],
   "source": [
    "# Import libraries\n",
    "import pandas as pd\n",
    "import numpy as np\n",
    "import statsmodels.formula.api as smf\n",
    "from sklearn.model_selection import train_test_split\n",
    "from sklearn.preprocessing import scale\n",
    "from sklearn.metrics import mean_squared_error\n",
    "from sklearn.linear_model import LinearRegression, Ridge, RidgeCV, Lasso, LassoCV\n",
    "from sklearn.feature_selection import SequentialFeatureSelector\n",
    "import matplotlib.pyplot as plt"
   ]
  },
  {
   "cell_type": "code",
   "execution_count": 4,
   "id": "926d9b00",
   "metadata": {},
   "outputs": [
    {
     "name": "stdout",
     "output_type": "stream",
     "text": [
      "<class 'pandas.core.frame.DataFrame'>\n",
      "Index: 777 entries, Abilene Christian University to York College of Pennsylvania\n",
      "Data columns (total 18 columns):\n",
      " #   Column       Non-Null Count  Dtype  \n",
      "---  ------       --------------  -----  \n",
      " 0   Private      777 non-null    object \n",
      " 1   Apps         777 non-null    int64  \n",
      " 2   Accept       777 non-null    int64  \n",
      " 3   Enroll       777 non-null    int64  \n",
      " 4   Top10perc    777 non-null    int64  \n",
      " 5   Top25perc    777 non-null    int64  \n",
      " 6   F.Undergrad  777 non-null    int64  \n",
      " 7   P.Undergrad  777 non-null    int64  \n",
      " 8   Outstate     777 non-null    int64  \n",
      " 9   Room.Board   777 non-null    int64  \n",
      " 10  Books        777 non-null    int64  \n",
      " 11  Personal     777 non-null    int64  \n",
      " 12  PhD          777 non-null    int64  \n",
      " 13  Terminal     777 non-null    int64  \n",
      " 14  S.F.Ratio    777 non-null    float64\n",
      " 15  perc.alumni  777 non-null    int64  \n",
      " 16  Expend       777 non-null    int64  \n",
      " 17  Grad.Rate    777 non-null    int64  \n",
      "dtypes: float64(1), int64(16), object(1)\n",
      "memory usage: 115.3+ KB\n"
     ]
    },
    {
     "data": {
      "text/html": [
       "<div>\n",
       "<style scoped>\n",
       "    .dataframe tbody tr th:only-of-type {\n",
       "        vertical-align: middle;\n",
       "    }\n",
       "\n",
       "    .dataframe tbody tr th {\n",
       "        vertical-align: top;\n",
       "    }\n",
       "\n",
       "    .dataframe thead th {\n",
       "        text-align: right;\n",
       "    }\n",
       "</style>\n",
       "<table border=\"1\" class=\"dataframe\">\n",
       "  <thead>\n",
       "    <tr style=\"text-align: right;\">\n",
       "      <th></th>\n",
       "      <th>Private</th>\n",
       "      <th>Apps</th>\n",
       "      <th>Accept</th>\n",
       "      <th>Enroll</th>\n",
       "      <th>Top10perc</th>\n",
       "      <th>Top25perc</th>\n",
       "      <th>F.Undergrad</th>\n",
       "      <th>P.Undergrad</th>\n",
       "      <th>Outstate</th>\n",
       "      <th>Room.Board</th>\n",
       "      <th>Books</th>\n",
       "      <th>Personal</th>\n",
       "      <th>PhD</th>\n",
       "      <th>Terminal</th>\n",
       "      <th>S.F.Ratio</th>\n",
       "      <th>perc.alumni</th>\n",
       "      <th>Expend</th>\n",
       "      <th>Grad.Rate</th>\n",
       "    </tr>\n",
       "  </thead>\n",
       "  <tbody>\n",
       "    <tr>\n",
       "      <th>Abilene Christian University</th>\n",
       "      <td>Yes</td>\n",
       "      <td>1660</td>\n",
       "      <td>1232</td>\n",
       "      <td>721</td>\n",
       "      <td>23</td>\n",
       "      <td>52</td>\n",
       "      <td>2885</td>\n",
       "      <td>537</td>\n",
       "      <td>7440</td>\n",
       "      <td>3300</td>\n",
       "      <td>450</td>\n",
       "      <td>2200</td>\n",
       "      <td>70</td>\n",
       "      <td>78</td>\n",
       "      <td>18.1</td>\n",
       "      <td>12</td>\n",
       "      <td>7041</td>\n",
       "      <td>60</td>\n",
       "    </tr>\n",
       "    <tr>\n",
       "      <th>Adelphi University</th>\n",
       "      <td>Yes</td>\n",
       "      <td>2186</td>\n",
       "      <td>1924</td>\n",
       "      <td>512</td>\n",
       "      <td>16</td>\n",
       "      <td>29</td>\n",
       "      <td>2683</td>\n",
       "      <td>1227</td>\n",
       "      <td>12280</td>\n",
       "      <td>6450</td>\n",
       "      <td>750</td>\n",
       "      <td>1500</td>\n",
       "      <td>29</td>\n",
       "      <td>30</td>\n",
       "      <td>12.2</td>\n",
       "      <td>16</td>\n",
       "      <td>10527</td>\n",
       "      <td>56</td>\n",
       "    </tr>\n",
       "    <tr>\n",
       "      <th>Adrian College</th>\n",
       "      <td>Yes</td>\n",
       "      <td>1428</td>\n",
       "      <td>1097</td>\n",
       "      <td>336</td>\n",
       "      <td>22</td>\n",
       "      <td>50</td>\n",
       "      <td>1036</td>\n",
       "      <td>99</td>\n",
       "      <td>11250</td>\n",
       "      <td>3750</td>\n",
       "      <td>400</td>\n",
       "      <td>1165</td>\n",
       "      <td>53</td>\n",
       "      <td>66</td>\n",
       "      <td>12.9</td>\n",
       "      <td>30</td>\n",
       "      <td>8735</td>\n",
       "      <td>54</td>\n",
       "    </tr>\n",
       "    <tr>\n",
       "      <th>Agnes Scott College</th>\n",
       "      <td>Yes</td>\n",
       "      <td>417</td>\n",
       "      <td>349</td>\n",
       "      <td>137</td>\n",
       "      <td>60</td>\n",
       "      <td>89</td>\n",
       "      <td>510</td>\n",
       "      <td>63</td>\n",
       "      <td>12960</td>\n",
       "      <td>5450</td>\n",
       "      <td>450</td>\n",
       "      <td>875</td>\n",
       "      <td>92</td>\n",
       "      <td>97</td>\n",
       "      <td>7.7</td>\n",
       "      <td>37</td>\n",
       "      <td>19016</td>\n",
       "      <td>59</td>\n",
       "    </tr>\n",
       "    <tr>\n",
       "      <th>Alaska Pacific University</th>\n",
       "      <td>Yes</td>\n",
       "      <td>193</td>\n",
       "      <td>146</td>\n",
       "      <td>55</td>\n",
       "      <td>16</td>\n",
       "      <td>44</td>\n",
       "      <td>249</td>\n",
       "      <td>869</td>\n",
       "      <td>7560</td>\n",
       "      <td>4120</td>\n",
       "      <td>800</td>\n",
       "      <td>1500</td>\n",
       "      <td>76</td>\n",
       "      <td>72</td>\n",
       "      <td>11.9</td>\n",
       "      <td>2</td>\n",
       "      <td>10922</td>\n",
       "      <td>15</td>\n",
       "    </tr>\n",
       "  </tbody>\n",
       "</table>\n",
       "</div>"
      ],
      "text/plain": [
       "                             Private  Apps  Accept  Enroll  Top10perc  \\\n",
       "Abilene Christian University     Yes  1660    1232     721         23   \n",
       "Adelphi University               Yes  2186    1924     512         16   \n",
       "Adrian College                   Yes  1428    1097     336         22   \n",
       "Agnes Scott College              Yes   417     349     137         60   \n",
       "Alaska Pacific University        Yes   193     146      55         16   \n",
       "\n",
       "                              Top25perc  F.Undergrad  P.Undergrad  Outstate  \\\n",
       "Abilene Christian University         52         2885          537      7440   \n",
       "Adelphi University                   29         2683         1227     12280   \n",
       "Adrian College                       50         1036           99     11250   \n",
       "Agnes Scott College                  89          510           63     12960   \n",
       "Alaska Pacific University            44          249          869      7560   \n",
       "\n",
       "                              Room.Board  Books  Personal  PhD  Terminal  \\\n",
       "Abilene Christian University        3300    450      2200   70        78   \n",
       "Adelphi University                  6450    750      1500   29        30   \n",
       "Adrian College                      3750    400      1165   53        66   \n",
       "Agnes Scott College                 5450    450       875   92        97   \n",
       "Alaska Pacific University           4120    800      1500   76        72   \n",
       "\n",
       "                              S.F.Ratio  perc.alumni  Expend  Grad.Rate  \n",
       "Abilene Christian University       18.1           12    7041         60  \n",
       "Adelphi University                 12.2           16   10527         56  \n",
       "Adrian College                     12.9           30    8735         54  \n",
       "Agnes Scott College                 7.7           37   19016         59  \n",
       "Alaska Pacific University          11.9            2   10922         15  "
      ]
     },
     "execution_count": 4,
     "metadata": {},
     "output_type": "execute_result"
    }
   ],
   "source": [
    "# Import Dataset\n",
    "df_College = pd.read_csv(\"College.csv\", index_col = 0)\n",
    "df_College.info()\n",
    "df_College.head()"
   ]
  },
  {
   "cell_type": "code",
   "execution_count": 5,
   "id": "aac4d8fa",
   "metadata": {},
   "outputs": [
    {
     "name": "stdout",
     "output_type": "stream",
     "text": [
      "the smallest value of Apps =  81\n",
      "the largest value of Apps =  48094\n"
     ]
    }
   ],
   "source": [
    "# Quick check of the range of 'Apps' variable.\n",
    "print('the smallest value of Apps = ',df_College.Apps.min())\n",
    "print('the largest value of Apps = ',df_College.Apps.max())"
   ]
  },
  {
   "cell_type": "code",
   "execution_count": 6,
   "id": "2367cdef",
   "metadata": {},
   "outputs": [
    {
     "name": "stdout",
     "output_type": "stream",
     "text": [
      "<class 'pandas.core.frame.DataFrame'>\n",
      "Index: 777 entries, Abilene Christian University to York College of Pennsylvania\n",
      "Data columns (total 18 columns):\n",
      " #   Column       Non-Null Count  Dtype  \n",
      "---  ------       --------------  -----  \n",
      " 0   Private      777 non-null    int64  \n",
      " 1   Apps         777 non-null    int64  \n",
      " 2   Accept       777 non-null    int64  \n",
      " 3   Enroll       777 non-null    int64  \n",
      " 4   Top10perc    777 non-null    int64  \n",
      " 5   Top25perc    777 non-null    int64  \n",
      " 6   F.Undergrad  777 non-null    int64  \n",
      " 7   P.Undergrad  777 non-null    int64  \n",
      " 8   Outstate     777 non-null    int64  \n",
      " 9   Room.Board   777 non-null    int64  \n",
      " 10  Books        777 non-null    int64  \n",
      " 11  Personal     777 non-null    int64  \n",
      " 12  PhD          777 non-null    int64  \n",
      " 13  Terminal     777 non-null    int64  \n",
      " 14  S.F.Ratio    777 non-null    float64\n",
      " 15  perc.alumni  777 non-null    int64  \n",
      " 16  Expend       777 non-null    int64  \n",
      " 17  Grad.Rate    777 non-null    int64  \n",
      "dtypes: float64(1), int64(17)\n",
      "memory usage: 115.3+ KB\n"
     ]
    }
   ],
   "source": [
    "# Data Manipulation\n",
    "df_College.Private.unique() # has two values (yes, no)\n",
    "df_College['Private'] = df_College.Private.factorize()[0] # Change the categorial variable -> numeric factor.\n",
    "df_College.info()"
   ]
  },
  {
   "cell_type": "code",
   "execution_count": 7,
   "id": "0561ded7",
   "metadata": {},
   "outputs": [],
   "source": [
    "#1.a) Randomly Split the data\n",
    "X_train, X_test, y_train, y_test = train_test_split(df_College.loc[:,df_College.columns != 'Apps'],\n",
    "                                                    df_College.Apps, test_size = 0.1, random_state = 1996)"
   ]
  },
  {
   "cell_type": "code",
   "execution_count": 8,
   "id": "d20210ce",
   "metadata": {},
   "outputs": [],
   "source": [
    "regr = LinearRegression()\n",
    "regr.fit(X_train, y_train) #fit a regression\n",
    "apps_pred = regr.predict(X_test) # predict using test set."
   ]
  },
  {
   "cell_type": "code",
   "execution_count": 9,
   "id": "d684ae34",
   "metadata": {},
   "outputs": [
    {
     "data": {
      "text/plain": [
       "819169.0394109311"
      ]
     },
     "execution_count": 9,
     "metadata": {},
     "output_type": "execute_result"
    }
   ],
   "source": [
    "mean_squared_error(y_test, apps_pred) # Test Error obtained."
   ]
  },
  {
   "cell_type": "code",
   "execution_count": 10,
   "id": "61841061",
   "metadata": {},
   "outputs": [],
   "source": [
    "from sklearn.preprocessing import StandardScaler\n",
    "scaler = StandardScaler().fit(X_train)"
   ]
  },
  {
   "cell_type": "code",
   "execution_count": 11,
   "id": "7202c47b",
   "metadata": {},
   "outputs": [],
   "source": [
    "# 1.b) Ridge (Updated)\n",
    "alphas = 10**np.linspace(10,-2,100)*0.5 # Initial set of alphas\n",
    "ridgeModel = Ridge()"
   ]
  },
  {
   "cell_type": "code",
   "execution_count": 20,
   "id": "3df0daa8",
   "metadata": {},
   "outputs": [],
   "source": [
    "# Cross-Validation\n",
    "def cross_validation(model, list_X, y, data, num_k, alphas):\n",
    "    # Shuffle the whole data.\n",
    "    data = data.sample(frac = 1, random_state = 96).reset_index(drop = True) \n",
    "    X = data[list_X]\n",
    "    y = data[y]\n",
    "    n = len(data)\n",
    "    size_fold = n//num_k\n",
    "    \n",
    "    evaluation = [] # to store final result.\n",
    "    \n",
    "    # Iterate the validating process for 5 times.\n",
    "    for i in range(num_k):\n",
    "        start = i*size_fold\n",
    "        end = (i+1)*size_fold\n",
    "        X_train = X.drop(X.index[start:end])\n",
    "        y_train = y.drop(y.index[start:end])\n",
    "        X_test = X[start:end]\n",
    "        y_test = y[start:end]\n",
    "\n",
    "        # calculate MSE for each alpha input.\n",
    "        ridgecv = RidgeCV(alphas = alphas)\n",
    "        ridgecv.fit(scaler.transform(X_train), y_train)\n",
    "        model.set_params(alpha = ridgecv.alpha_)\n",
    "        \n",
    "        # Fit the model for each validation set.\n",
    "        model.fit(scaler.transform(X_train), y_train)\n",
    "        evaluation.append([i, ridgecv.alpha_, mean_squared_error(y_test, model.predict(scaler.transform(X_test)))])\n",
    "\n",
    "        \n",
    "    return evaluation #round(np.average(evaluation), 5) # evaluate the result round to 5 decimals."
   ]
  },
  {
   "cell_type": "code",
   "execution_count": 21,
   "id": "4cac2582",
   "metadata": {},
   "outputs": [],
   "source": [
    "trainData = pd.concat([y_train, X_train], axis = 1)\n",
    "trainData\n",
    "list_X = list(trainData.loc[:, trainData.columns != 'Apps'].columns)\n",
    "y = 'Apps'\n",
    "result = cross_validation(ridgeModel, list_X, y, trainData, 10, alphas)"
   ]
  },
  {
   "cell_type": "code",
   "execution_count": 271,
   "id": "3749ecb6",
   "metadata": {},
   "outputs": [
    {
     "data": {
      "text/plain": [
       "[[0, 0.005, 827629.784716583],\n",
       " [1, 0.005, 855720.0017959789],\n",
       " [2, 0.005, 1309431.6691319437],\n",
       " [3, 0.005, 1080983.0517577277],\n",
       " [4, 2.320794416806386, 2963386.954730386],\n",
       " [5, 0.005, 1188604.9306884871],\n",
       " [6, 0.005, 1127591.729520765],\n",
       " [7, 0.005, 1166702.8231651543],\n",
       " [8, 0.005, 1651930.1910290048],\n",
       " [9, 0.005, 1097962.0643972822]]"
      ]
     },
     "execution_count": 271,
     "metadata": {},
     "output_type": "execute_result"
    }
   ],
   "source": [
    "result"
   ]
  },
  {
   "cell_type": "code",
   "execution_count": 22,
   "id": "7b601029",
   "metadata": {},
   "outputs": [],
   "source": [
    "df_result = pd.DataFrame(result, columns = ['CV', 'alpha', 'MSE'])"
   ]
  },
  {
   "cell_type": "code",
   "execution_count": 23,
   "id": "0573237e",
   "metadata": {},
   "outputs": [
    {
     "data": {
      "text/plain": [
       "0.3112953636706581"
      ]
     },
     "execution_count": 23,
     "metadata": {},
     "output_type": "execute_result"
    }
   ],
   "source": [
    "# alpha calculated by 10-fold cross validation\n",
    "df_result.alpha.mean()"
   ]
  },
  {
   "cell_type": "code",
   "execution_count": 24,
   "id": "97c61dc8",
   "metadata": {
    "scrolled": true
   },
   "outputs": [
    {
     "data": {
      "text/plain": [
       "815001.5279444703"
      ]
     },
     "execution_count": 24,
     "metadata": {},
     "output_type": "execute_result"
    }
   ],
   "source": [
    "# Fit into the final model.\n",
    "ridgeModel2 = Ridge(alpha = df_result.alpha.mean())\n",
    "ridgeModel2.fit(scaler.transform(X_train), y_train)\n",
    "pred = ridgeModel2.predict(scaler.transform(X_test))\n",
    "mean_squared_error(y_test, pred)"
   ]
  },
  {
   "cell_type": "code",
   "execution_count": 25,
   "id": "5d4a2a4f",
   "metadata": {},
   "outputs": [],
   "source": [
    "#1.c) Lasso\n",
    "lassoModel = Lasso()\n",
    "\n",
    "# Cross-Validation\n",
    "def cross_validation_lasso(model, list_X, y, data, num_k, alphas):\n",
    "    # Shuffle the whole data.\n",
    "    data = data.sample(frac = 1, random_state = 96).reset_index(drop = True) \n",
    "    X = data[list_X]\n",
    "    y = data[y]\n",
    "    n = len(data)\n",
    "    size_fold = n//num_k\n",
    "    \n",
    "    evaluation = [] # to store final result.\n",
    "    \n",
    "    # Iterate the validating process for 5 times.\n",
    "    for i in range(num_k):\n",
    "        start = i*size_fold\n",
    "        end = (i+1)*size_fold\n",
    "        X_train = X.drop(X.index[start:end])\n",
    "        y_train = y.drop(y.index[start:end])\n",
    "        X_test = X[start:end]\n",
    "        y_test = y[start:end]\n",
    "\n",
    "        # calculate MSE for each alpha input.\n",
    "        lassocv = LassoCV(alphas = None, max_iter=1000)\n",
    "        lassocv.fit(scaler.transform(X_train), y_train)\n",
    "        model.set_params(alpha = lassocv.alpha_, max_iter = 1000)\n",
    "        \n",
    "        # Fit the model for each validation set.\n",
    "        model.fit(scaler.transform(X_train), y_train)\n",
    "        evaluation.append([i, lassocv.alpha_, mean_squared_error(y_test, model.predict(scaler.transform(X_test)))])\n",
    "\n",
    "        \n",
    "    return evaluation"
   ]
  },
  {
   "cell_type": "code",
   "execution_count": 26,
   "id": "f003e2ab",
   "metadata": {},
   "outputs": [],
   "source": [
    "list_X = list(trainData.loc[:, trainData.columns != 'Apps'].columns)\n",
    "y = 'Apps'\n",
    "result_lasso = cross_validation_lasso(lassoModel, list_X, y, trainData, 10, alphas)"
   ]
  },
  {
   "cell_type": "code",
   "execution_count": 27,
   "id": "aa49a592",
   "metadata": {},
   "outputs": [],
   "source": [
    "df_result_lasso = pd.DataFrame(result_lasso, columns = ['CV', 'alpha', 'MSE'])"
   ]
  },
  {
   "cell_type": "code",
   "execution_count": 28,
   "id": "9e13a421",
   "metadata": {},
   "outputs": [
    {
     "data": {
      "text/plain": [
       "14.864560115399831"
      ]
     },
     "execution_count": 28,
     "metadata": {},
     "output_type": "execute_result"
    }
   ],
   "source": [
    "df_result_lasso.alpha.mean()"
   ]
  },
  {
   "cell_type": "code",
   "execution_count": 29,
   "id": "e62cc8f7",
   "metadata": {},
   "outputs": [
    {
     "data": {
      "text/plain": [
       "720823.2457449477"
      ]
     },
     "execution_count": 29,
     "metadata": {},
     "output_type": "execute_result"
    }
   ],
   "source": [
    "# Fit the model\n",
    "lassoModel2 = Lasso(alpha = df_result_lasso.alpha.mean())\n",
    "lassoModel2.fit(scaler.transform(X_train), y_train)\n",
    "pred2 = lassoModel2.predict(scaler.transform(X_test))\n",
    "mean_squared_error(y_test, pred2)"
   ]
  },
  {
   "cell_type": "code",
   "execution_count": 30,
   "id": "aea1bc73",
   "metadata": {},
   "outputs": [
    {
     "data": {
      "text/plain": [
       "Private         220.248169\n",
       "Accept         3834.442824\n",
       "Enroll         -391.932999\n",
       "Top10perc       774.735882\n",
       "Top25perc      -199.494825\n",
       "F.Undergrad       0.000000\n",
       "P.Undergrad      61.339827\n",
       "Outstate       -304.572692\n",
       "Room.Board      142.997653\n",
       "Books            -0.000000\n",
       "Personal          0.000000\n",
       "PhD            -124.007623\n",
       "Terminal        -19.407439\n",
       "S.F.Ratio        35.711987\n",
       "perc.alumni      -0.000000\n",
       "Expend          357.447689\n",
       "Grad.Rate       103.920837\n",
       "dtype: float64"
      ]
     },
     "execution_count": 30,
     "metadata": {},
     "output_type": "execute_result"
    }
   ],
   "source": [
    "# the list of non-zero coefficient estimates.\n",
    "pd.Series(lassoModel2.coef_, index=X_train.columns)"
   ]
  },
  {
   "cell_type": "markdown",
   "id": "33585a90",
   "metadata": {},
   "source": [
    "## Question 2"
   ]
  },
  {
   "cell_type": "code",
   "execution_count": 31,
   "id": "586260af",
   "metadata": {},
   "outputs": [
    {
     "name": "stdout",
     "output_type": "stream",
     "text": [
      "<class 'pandas.core.frame.DataFrame'>\n",
      "Int64Index: 506 entries, 1 to 506\n",
      "Data columns (total 13 columns):\n",
      " #   Column   Non-Null Count  Dtype  \n",
      "---  ------   --------------  -----  \n",
      " 0   crim     506 non-null    float64\n",
      " 1   zn       506 non-null    float64\n",
      " 2   indus    506 non-null    float64\n",
      " 3   chas     506 non-null    int64  \n",
      " 4   nox      506 non-null    float64\n",
      " 5   rm       506 non-null    float64\n",
      " 6   age      506 non-null    float64\n",
      " 7   dis      506 non-null    float64\n",
      " 8   rad      506 non-null    int64  \n",
      " 9   tax      506 non-null    int64  \n",
      " 10  ptratio  506 non-null    float64\n",
      " 11  lstat    506 non-null    float64\n",
      " 12  medv     506 non-null    float64\n",
      "dtypes: float64(10), int64(3)\n",
      "memory usage: 55.3 KB\n"
     ]
    }
   ],
   "source": [
    "df_Boston = pd.read_csv('Boston.csv',index_col = 0)\n",
    "df_Boston.info()"
   ]
  },
  {
   "cell_type": "code",
   "execution_count": 32,
   "id": "025ff79c",
   "metadata": {},
   "outputs": [],
   "source": [
    "# 2.a)\n",
    "# Split Dataset.\n",
    "X_train2, X_test2, y_train2, y_test2 = train_test_split(df_Boston.loc[:,df_Boston.columns != 'crim'], df_Boston.crim, test_size = 0.1, random_state = 1996)"
   ]
  },
  {
   "cell_type": "code",
   "execution_count": 47,
   "id": "6b1a8e63",
   "metadata": {},
   "outputs": [
    {
     "data": {
      "text/plain": [
       "SequentialFeatureSelector(estimator=LinearRegression(),\n",
       "                          scoring='neg_mean_squared_error')"
      ]
     },
     "execution_count": 47,
     "metadata": {},
     "output_type": "execute_result"
    }
   ],
   "source": [
    "# Forward Selection\n",
    "selector_forward = SequentialFeatureSelector(LinearRegression(), \n",
    "                                            direction = 'forward', scoring = 'neg_mean_squared_error')\n",
    "selector_forward.fit(X_train2, y_train2)"
   ]
  },
  {
   "cell_type": "code",
   "execution_count": 48,
   "id": "10392e49",
   "metadata": {},
   "outputs": [
    {
     "data": {
      "text/plain": [
       "Index(['nox', 'dis', 'rad', 'ptratio', 'lstat', 'medv'], dtype='object')"
      ]
     },
     "execution_count": 48,
     "metadata": {},
     "output_type": "execute_result"
    }
   ],
   "source": [
    "    # Selected Variables\n",
    "selected_forward = X_train2.columns[selector_forward.get_support(indices = True)]\n",
    "selected_forward"
   ]
  },
  {
   "cell_type": "code",
   "execution_count": 49,
   "id": "ea202321",
   "metadata": {},
   "outputs": [],
   "source": [
    "    # Model Tune and Fitting\n",
    "model_forward = LinearRegression()\n",
    "model_forward.fit(X_train2[selected_forward], y_train2)\n",
    "    # MSE for Forward Selection\n",
    "mse_Forward = mean_squared_error(y_test2, model_forward.predict(X_test2[selected_forward]))"
   ]
  },
  {
   "cell_type": "code",
   "execution_count": 50,
   "id": "d1b3c0c1",
   "metadata": {},
   "outputs": [
    {
     "data": {
      "text/plain": [
       "13.728758007070557"
      ]
     },
     "execution_count": 50,
     "metadata": {},
     "output_type": "execute_result"
    }
   ],
   "source": [
    "mse_Forward"
   ]
  },
  {
   "cell_type": "code",
   "execution_count": 51,
   "id": "67fed508",
   "metadata": {},
   "outputs": [
    {
     "data": {
      "text/plain": [
       "SequentialFeatureSelector(direction='backward', estimator=LinearRegression(),\n",
       "                          scoring='neg_mean_squared_error')"
      ]
     },
     "execution_count": 51,
     "metadata": {},
     "output_type": "execute_result"
    }
   ],
   "source": [
    "# Backward Selection\n",
    "selector_backward = SequentialFeatureSelector(LinearRegression(), \n",
    "                                            direction = 'backward', scoring = 'neg_mean_squared_error')\n",
    "selector_backward.fit(X_train2, y_train2)"
   ]
  },
  {
   "cell_type": "code",
   "execution_count": 52,
   "id": "f17cc2a4",
   "metadata": {},
   "outputs": [
    {
     "data": {
      "text/plain": [
       "Index(['zn', 'nox', 'dis', 'rad', 'ptratio', 'medv'], dtype='object')"
      ]
     },
     "execution_count": 52,
     "metadata": {},
     "output_type": "execute_result"
    }
   ],
   "source": [
    "    # Selected Variables\n",
    "selected_backward = X_train2.columns[selector_backward.get_support(indices = True)]\n",
    "selected_backward"
   ]
  },
  {
   "cell_type": "code",
   "execution_count": 53,
   "id": "5f22ae47",
   "metadata": {},
   "outputs": [],
   "source": [
    "    # Model Tune and Fitting\n",
    "model_backward = LinearRegression()\n",
    "model_backward.fit(X_train2[selected_backward], y_train2)\n",
    "    # MSE for backward Selection\n",
    "mse_Backward = mean_squared_error(y_test2, model_backward.predict(X_test2[selected_backward]))"
   ]
  },
  {
   "cell_type": "code",
   "execution_count": 54,
   "id": "87d6170b",
   "metadata": {},
   "outputs": [
    {
     "data": {
      "text/plain": [
       "14.849203623484309"
      ]
     },
     "execution_count": 54,
     "metadata": {},
     "output_type": "execute_result"
    }
   ],
   "source": [
    "mse_Backward"
   ]
  },
  {
   "cell_type": "code",
   "execution_count": 33,
   "id": "e4511efb",
   "metadata": {},
   "outputs": [],
   "source": [
    "from sklearn.preprocessing import StandardScaler\n",
    "scaler = StandardScaler().fit(X_train2)"
   ]
  },
  {
   "cell_type": "code",
   "execution_count": 35,
   "id": "294ef76d",
   "metadata": {},
   "outputs": [],
   "source": [
    "# Ridge\n",
    "trainData_Boston = pd.concat([y_train2, X_train2], axis = 1)\n",
    "ridgeModel = Ridge()\n",
    "list_X = list(trainData_Boston.loc[:, trainData_Boston.columns != 'crim'].columns)\n",
    "y = 'crim'\n",
    "result_ridge_Boston = cross_validation(ridgeModel, list_X, y, trainData_Boston, 10, alphas) #10 fold validation"
   ]
  },
  {
   "cell_type": "code",
   "execution_count": 36,
   "id": "91409f61",
   "metadata": {},
   "outputs": [],
   "source": [
    "df_result_boston = pd.DataFrame(result, columns = ['CV', 'alpha', 'MSE'])"
   ]
  },
  {
   "cell_type": "code",
   "execution_count": 37,
   "id": "0dd4aef3",
   "metadata": {},
   "outputs": [
    {
     "data": {
      "text/plain": [
       "0.3112953636706581"
      ]
     },
     "execution_count": 37,
     "metadata": {},
     "output_type": "execute_result"
    }
   ],
   "source": [
    "df_result_boston.alpha.mean()"
   ]
  },
  {
   "cell_type": "code",
   "execution_count": 39,
   "id": "7099dfa8",
   "metadata": {},
   "outputs": [],
   "source": [
    "ridgeModel2_boston = Ridge(alpha = df_result_boston.alpha.mean())\n",
    "ridgeModel2_boston.fit(scaler.transform(X_train2), y_train2)\n",
    "pred_boston = ridgeModel2_boston.predict(scaler.transform(X_test2))\n",
    "mse_Ridge = mean_squared_error(y_test2, pred_boston)"
   ]
  },
  {
   "cell_type": "code",
   "execution_count": 40,
   "id": "ac4b081e",
   "metadata": {},
   "outputs": [
    {
     "data": {
      "text/plain": [
       "15.01259635593882"
      ]
     },
     "execution_count": 40,
     "metadata": {},
     "output_type": "execute_result"
    }
   ],
   "source": [
    "mse_Ridge"
   ]
  },
  {
   "cell_type": "code",
   "execution_count": 41,
   "id": "b98b7fb3",
   "metadata": {},
   "outputs": [],
   "source": [
    "# Lasso\n",
    "lassoModel = Lasso()\n",
    "list_X = list(trainData_Boston.loc[:, trainData_Boston.columns != 'crim'].columns)\n",
    "y = 'crim'\n",
    "result_lasso_boston = cross_validation_lasso(lassoModel, list_X, y, trainData_Boston, 10, alphas)"
   ]
  },
  {
   "cell_type": "code",
   "execution_count": 42,
   "id": "dfa4e8be",
   "metadata": {},
   "outputs": [],
   "source": [
    "df_result_lasso_boston = pd.DataFrame(result_lasso_boston, columns = ['CV', 'alpha', 'MSE'])"
   ]
  },
  {
   "cell_type": "code",
   "execution_count": 43,
   "id": "7022e65b",
   "metadata": {},
   "outputs": [
    {
     "data": {
      "text/plain": [
       "0.03152287839583976"
      ]
     },
     "execution_count": 43,
     "metadata": {},
     "output_type": "execute_result"
    }
   ],
   "source": [
    "df_result_lasso_boston.alpha.mean()"
   ]
  },
  {
   "cell_type": "code",
   "execution_count": 44,
   "id": "99152052",
   "metadata": {},
   "outputs": [],
   "source": [
    "lassoModel2_boston = Lasso(alpha = df_result_lasso_boston.alpha.mean())\n",
    "lassoModel2_boston.fit(scaler.transform(X_train2), y_train2)\n",
    "pred2 = lassoModel2_boston.predict(scaler.transform(X_test2))\n",
    "mse_Lasso = mean_squared_error(y_test2, pred2)"
   ]
  },
  {
   "cell_type": "code",
   "execution_count": 45,
   "id": "36b097da",
   "metadata": {},
   "outputs": [
    {
     "data": {
      "text/plain": [
       "14.111579290011868"
      ]
     },
     "execution_count": 45,
     "metadata": {},
     "output_type": "execute_result"
    }
   ],
   "source": [
    "mse_Lasso"
   ]
  },
  {
   "cell_type": "code",
   "execution_count": 55,
   "id": "e3ad89fb",
   "metadata": {},
   "outputs": [
    {
     "data": {
      "text/html": [
       "<div>\n",
       "<style scoped>\n",
       "    .dataframe tbody tr th:only-of-type {\n",
       "        vertical-align: middle;\n",
       "    }\n",
       "\n",
       "    .dataframe tbody tr th {\n",
       "        vertical-align: top;\n",
       "    }\n",
       "\n",
       "    .dataframe thead th {\n",
       "        text-align: right;\n",
       "    }\n",
       "</style>\n",
       "<table border=\"1\" class=\"dataframe\">\n",
       "  <thead>\n",
       "    <tr style=\"text-align: right;\">\n",
       "      <th></th>\n",
       "      <th>Model</th>\n",
       "      <th>MSE</th>\n",
       "    </tr>\n",
       "  </thead>\n",
       "  <tbody>\n",
       "    <tr>\n",
       "      <th>0</th>\n",
       "      <td>Forward</td>\n",
       "      <td>13.728758</td>\n",
       "    </tr>\n",
       "    <tr>\n",
       "      <th>2</th>\n",
       "      <td>Lasso</td>\n",
       "      <td>14.111579</td>\n",
       "    </tr>\n",
       "    <tr>\n",
       "      <th>1</th>\n",
       "      <td>Backward</td>\n",
       "      <td>14.849204</td>\n",
       "    </tr>\n",
       "    <tr>\n",
       "      <th>3</th>\n",
       "      <td>Ridge</td>\n",
       "      <td>15.012596</td>\n",
       "    </tr>\n",
       "  </tbody>\n",
       "</table>\n",
       "</div>"
      ],
      "text/plain": [
       "      Model        MSE\n",
       "0   Forward  13.728758\n",
       "2     Lasso  14.111579\n",
       "1  Backward  14.849204\n",
       "3     Ridge  15.012596"
      ]
     },
     "execution_count": 55,
     "metadata": {},
     "output_type": "execute_result"
    }
   ],
   "source": [
    "# 2.b)\n",
    "# Create a model performance table for comparison\n",
    "modelPerformance = pd.DataFrame({'Model' :['Forward', 'Backward', 'Lasso', 'Ridge'],\n",
    "             'MSE': [mse_Forward, mse_Backward, mse_Lasso, mse_Ridge]})\n",
    "modelPerformance.sort_values(by = 'MSE', ascending = True)"
   ]
  },
  {
   "cell_type": "code",
   "execution_count": 56,
   "id": "1a3876c1",
   "metadata": {},
   "outputs": [
    {
     "data": {
      "text/plain": [
       "zn         1.219803\n",
       "indus     -0.393448\n",
       "chas      -0.172680\n",
       "nox       -1.321009\n",
       "rm         0.557232\n",
       "age       -0.002067\n",
       "dis       -2.381810\n",
       "rad        5.661526\n",
       "tax       -0.760496\n",
       "ptratio   -0.767536\n",
       "lstat      0.952548\n",
       "medv      -2.316412\n",
       "dtype: float64"
      ]
     },
     "execution_count": 56,
     "metadata": {},
     "output_type": "execute_result"
    }
   ],
   "source": [
    "pd.Series(ridgeModel2_boston.coef_, index = X_train2.columns)"
   ]
  },
  {
   "cell_type": "code",
   "execution_count": 57,
   "id": "38aae199",
   "metadata": {},
   "outputs": [
    {
     "data": {
      "text/plain": [
       "zn         1.089325\n",
       "indus     -0.429543\n",
       "chas      -0.148237\n",
       "nox       -1.101131\n",
       "rm         0.469548\n",
       "age       -0.000000\n",
       "dis       -2.108762\n",
       "rad        5.268887\n",
       "tax       -0.350672\n",
       "ptratio   -0.659894\n",
       "lstat      0.937450\n",
       "medv      -2.086144\n",
       "dtype: float64"
      ]
     },
     "execution_count": 57,
     "metadata": {},
     "output_type": "execute_result"
    }
   ],
   "source": [
    "pd.Series(lassoModel2_boston.coef_, index=X_train2.columns)"
   ]
  }
 ],
 "metadata": {
  "kernelspec": {
   "display_name": "Python 3",
   "language": "python",
   "name": "python3"
  },
  "language_info": {
   "codemirror_mode": {
    "name": "ipython",
    "version": 3
   },
   "file_extension": ".py",
   "mimetype": "text/x-python",
   "name": "python",
   "nbconvert_exporter": "python",
   "pygments_lexer": "ipython3",
   "version": "3.8.8"
  }
 },
 "nbformat": 4,
 "nbformat_minor": 5
}
